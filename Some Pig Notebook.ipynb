{
 "metadata": {
  "name": "",
  "signature": "sha256:60a8c821ac3577c28005b7a651011055a06d902b3e56afb1542907705af14bef"
 },
 "nbformat": 3,
 "nbformat_minor": 0,
 "worksheets": [
  {
   "cells": [
    {
     "cell_type": "code",
     "collapsed": false,
     "input": [
      "import random\n",
      "import math\n",
      "import statistics as st\n",
      "import matplotlib.pyplot as plt\n",
      "import seaborn\n",
      "\n",
      "\n",
      "def die_6():\n",
      "    \"\"\"Returns a value between 1 and 6.\"\"\"\n",
      "    return random.randint(1, 6)"
     ],
     "language": "python",
     "metadata": {},
     "outputs": [],
     "prompt_number": 14
    },
    {
     "cell_type": "code",
     "collapsed": false,
     "input": [
      "%matplotlib inline"
     ],
     "language": "python",
     "metadata": {},
     "outputs": [],
     "prompt_number": 15
    },
    {
     "cell_type": "code",
     "collapsed": false,
     "input": [
      "class Player:\n",
      "    \"\"\"A player for the game of Pig Solitaire\n",
      "    \n",
      "    Responsibilities:\n",
      "    * Has a Score\n",
      "    * Has a method to roll the die and evaluate the result\n",
      "    \"\"\"\n",
      "    \n",
      "    def __init__(self):\n",
      "        self.score = 0\n",
      "        self.turn_count = 0\n",
      "        self.turn_score = 0\n",
      "        \n",
      "    def roll_or_stand(self, turn_count, turn_score):\n",
      "        \"\"\"Contains the logic for the given player.\"\"\"\n",
      "        return False\n",
      "    \n",
      "    \n",
      "        \n",
      "    \n",
      "    "
     ],
     "language": "python",
     "metadata": {},
     "outputs": [],
     "prompt_number": 16
    },
    {
     "cell_type": "code",
     "collapsed": false,
     "input": [
      "class Game:\n",
      "    \"\"\"Contains the game flow for Pig Solitaire\n",
      "    \n",
      "    Responsibilities:\n",
      "    * Has a player\n",
      "    * Has a running score for the round and a turn counter\n",
      "    * Contains an iterate method \n",
      "    * Has method for handling a roll of 1\n",
      "    \n",
      "    Collaborators:\n",
      "    + Takes a player\n",
      "    \"\"\"\n",
      "    \n",
      "    def __init__(self, player):\n",
      "        self.player = player\n",
      "        self.player_turns = 7\n",
      "        self.running_score = 0\n",
      "        self.player_turn_score = 0\n",
      "    \n",
      "    def roll(self):\n",
      "        roll = die_6()\n",
      "        return roll\n",
      "    \n",
      "    def turn(self):\n",
      "        self.player.turn_count += 1\n",
      "        current_roll = self.roll()\n",
      "        if current_roll == 1:\n",
      "            self.player_turn_score = 0\n",
      "            self.running_score = 0\n",
      "            self.player_turns -= 1\n",
      "            return self.running_score\n",
      "        else:\n",
      "            self.running_score += current_roll\n",
      "            self.player_turn_score += current_roll\n",
      "        if self.player.roll_or_stand(self.player.turn_count, self.player_turn_score):\n",
      "            self.turn()\n",
      "        else:\n",
      "            self.player_turn_score = 0\n",
      "            self.player_turns -= 1\n",
      "            return self.running_score\n",
      "    \n",
      "    \n",
      "    def full_game(self):\n",
      "        while self.player_turns > 0:\n",
      "            self.turn()\n",
      "            self.player.score += self.running_score\n",
      "            self.player.turn_count = 0\n",
      "            self.player_turn_score = 0\n",
      "            self.running_score = 0\n",
      "        return self.player.score\n",
      "            \n",
      "        \n",
      "       \n",
      "        \n",
      "        "
     ],
     "language": "python",
     "metadata": {},
     "outputs": [],
     "prompt_number": 35
    },
    {
     "cell_type": "heading",
     "level": 1,
     "metadata": {},
     "source": [
      "Normal Player"
     ]
    },
    {
     "cell_type": "code",
     "collapsed": false,
     "input": [
      "def game_iterate(trials=1000):\n",
      "    score_results = []\n",
      "    for _ in range(trials):\n",
      "        game = Game(Player())\n",
      "        score_results.append(game.full_game())\n",
      "    return score_results\n",
      "\n",
      "        \n",
      "    "
     ],
     "language": "python",
     "metadata": {},
     "outputs": [],
     "prompt_number": 102
    },
    {
     "cell_type": "code",
     "collapsed": false,
     "input": [
      "normal_player_results = game_iterate()\n",
      "normal_mean = st.mean(normal_player_results)\n",
      "normal_stdev = st.stdev(normal_player_results)\n"
     ],
     "language": "python",
     "metadata": {},
     "outputs": [],
     "prompt_number": 105
    },
    {
     "cell_type": "code",
     "collapsed": false,
     "input": [
      "plt.hist(normal_player_results, bins=20, color='green')\n",
      "plt.xlabel(\"Score\")\n",
      "plt.ylabel(\"Count\")\n",
      "ymin, ymax = plt.ylim()\n",
      "plt.vlines(normal_mean, ymin, ymax, color='black')\n",
      "plt.vlines([normal_mean - 1 * normal_stdev, normal_mean - normal_stdev, normal_mean + normal_stdev, \n",
      "            normal_mean + 1 * normal_stdev], ymin, ymax, linestyles=\"dashed\", color='black')\n",
      "plt.title(\"Normal Player Total Scores\\n Mean: {} \\nStandard Deviation: {} \".format(normal_mean, normal_stdev))\n",
      "plt.show()"
     ],
     "language": "python",
     "metadata": {},
     "outputs": [
      {
       "metadata": {},
       "output_type": "display_data",
       "png": "[encoded data removed]",
       "text": [
        "<matplotlib.figure.Figure at 0x10c645d68>"
       ]
      }
     ],
     "prompt_number": 106
    },
    {
     "cell_type": "heading",
     "level": 1,
     "metadata": {},
     "source": [
      "Player Holds at 5 Turns"
     ]
    },
    {
     "cell_type": "code",
     "collapsed": false,
     "input": [
      "class Hold_at_5(Player):\n",
      "    def roll_or_stand(self, turn_count, turn_score):\n",
      "        \"\"\"Contains the logic for the given player.\"\"\"\n",
      "        if turn_count == 5:\n",
      "            return False\n",
      "        else:\n",
      "            return True\n",
      "    "
     ],
     "language": "python",
     "metadata": {},
     "outputs": [],
     "prompt_number": 107
    },
    {
     "cell_type": "code",
     "collapsed": false,
     "input": [
      "def game_iterate_5(player, trials=1000):\n",
      "    score_results = []\n",
      "    for _ in range(trials):\n",
      "        player = player\n",
      "        game = Game(Hold_at_5())\n",
      "        score_results.append(game.full_game())\n",
      "    return score_results\n",
      "\n"
     ],
     "language": "python",
     "metadata": {},
     "outputs": [],
     "prompt_number": 108
    },
    {
     "cell_type": "code",
     "collapsed": false,
     "input": [
      "hold_5_results = game_iterate_5(Hold_at_5())\n",
      "hold_5_mean = st.mean(hold_5_results)\n",
      "hold_5_stdev = st.stdev(hold_5_results)\n",
      "\n"
     ],
     "language": "python",
     "metadata": {},
     "outputs": [],
     "prompt_number": 109
    },
    {
     "cell_type": "code",
     "collapsed": false,
     "input": [
      "plt.hist(hold_5_results, bins=20, color='green')\n",
      "plt.xlabel(\"Score\")\n",
      "plt.ylabel(\"Count\")\n",
      "ymin, ymax = plt.ylim()\n",
      "plt.vlines(hold_5_mean, ymin, ymax, color='black')\n",
      "plt.vlines([hold_5_mean - 1 * hold_5_stdev, hold_5_mean - hold_5_stdev, hold_5_mean + hold_5_stdev, \n",
      "            hold_5_mean + 1 * hold_5_stdev], ymin, ymax, linestyles=\"dashed\", color='black')\n",
      "plt.title(\"Player Holds at 5 Turns Total Scores\\n Mean: {} \\nStandard Deviation: {} \".format(hold_5_mean, hold_5_stdev))\n",
      "plt.show()"
     ],
     "language": "python",
     "metadata": {},
     "outputs": [
      {
       "metadata": {},
       "output_type": "display_data",
       "png": "[encoded data removed]",
       "text": [
        "<matplotlib.figure.Figure at 0x10c8265f8>"
       ]
      }
     ],
     "prompt_number": 110
    },
    {
     "cell_type": "heading",
     "level": 1,
     "metadata": {},
     "source": [
      "Player Holds at 15 Turns"
     ]
    },
    {
     "cell_type": "code",
     "collapsed": false,
     "input": [
      "class Hold_at_15(Player):\n",
      "    def roll_or_stand(self, turn_count, turn_score):\n",
      "        \"\"\"Contains the logic for the given player.\"\"\"\n",
      "        if turn_count == 15:\n",
      "            return False\n",
      "        else:\n",
      "            return True\n",
      "    "
     ],
     "language": "python",
     "metadata": {},
     "outputs": [],
     "prompt_number": 43
    },
    {
     "cell_type": "code",
     "collapsed": false,
     "input": [
      "def game_iterate_15(trials=1000):\n",
      "   score_results = []\n",
      "    for _ in range(trials):\n",
      "        game = Game(Hold_at_15())\n",
      "        score_results.append(game.full_game())\n",
      "    return score_results\n",
      "\n",
      "\n"
     ],
     "language": "python",
     "metadata": {},
     "outputs": [],
     "prompt_number": 44
    },
    {
     "cell_type": "code",
     "collapsed": false,
     "input": [
      "hold_15_results = game_iterate_15()\n",
      "hold_15_mean = st.mean(hold_15_results)\n",
      "hold_15_stdev = st.stdev(hold_15_results)\n",
      "\n"
     ],
     "language": "python",
     "metadata": {},
     "outputs": [],
     "prompt_number": 111
    },
    {
     "cell_type": "code",
     "collapsed": false,
     "input": [
      "plt.hist(hold_15_results, bins=20, color='green')\n",
      "plt.xlabel(\"Score\")\n",
      "plt.ylabel(\"Count\")\n",
      "ymin, ymax = plt.ylim()\n",
      "plt.vlines(hold_15_mean, ymin, ymax, color='black')\n",
      "plt.vlines([hold_15_mean - 1 * hold_15_stdev, hold_15_mean - hold_15_stdev, hold_15_mean + hold_15_stdev, \n",
      "            hold_15_mean + 1 * hold_15_stdev], ymin, ymax, linestyles=\"dashed\", color='black')\n",
      "plt.title(\"Player Holds at 15 Turns Total Scores\\n Mean: {} \\nStandard Deviation: {} \".format(hold_15_mean, hold_15_stdev))\n",
      "plt.show()"
     ],
     "language": "python",
     "metadata": {},
     "outputs": [
      {
       "metadata": {},
       "output_type": "display_data",
       "png": "[encoded data removed]",
       "text": [
        "<matplotlib.figure.Figure at 0x10c834710>"
       ]
      }
     ],
     "prompt_number": 112
    },
    {
     "cell_type": "heading",
     "level": 1,
     "metadata": {},
     "source": [
      "Player Holds at a Score of 10"
     ]
    },
    {
     "cell_type": "code",
     "collapsed": false,
     "input": [
      "class Hold_at_score_10(Player):\n",
      "    def roll_or_stand(self, turn_count, turn_score):\n",
      "        \"\"\"Contains the logic for the given player.\"\"\"\n",
      "        if turn_score >= 10:\n",
      "            return False\n",
      "        else:\n",
      "            return True\n",
      "        \n",
      "    "
     ],
     "language": "python",
     "metadata": {},
     "outputs": [],
     "prompt_number": 113
    },
    {
     "cell_type": "code",
     "collapsed": false,
     "input": [
      "def game_iterate_10_score(trials=1000):\n",
      "    score_results = []\n",
      "    for _ in range(trials):\n",
      "        game = Game(Hold_at_score_10())\n",
      "        score_results.append(game.full_game())\n",
      "    return score_results\n"
     ],
     "language": "python",
     "metadata": {},
     "outputs": [],
     "prompt_number": 114
    },
    {
     "cell_type": "code",
     "collapsed": false,
     "input": [
      "score_10_results = game_iterate_10_score()\n",
      "score_10_mean = st.mean(score_10_results)\n",
      "score_10_stdev = st.stdev(score_10_results)\n",
      "\n"
     ],
     "language": "python",
     "metadata": {},
     "outputs": [],
     "prompt_number": 115
    },
    {
     "cell_type": "code",
     "collapsed": false,
     "input": [
      "plt.hist(score_10_results, bins=20, color='green')\n",
      "plt.xlabel(\"Score\")\n",
      "plt.ylabel(\"Count\")\n",
      "ymin, ymax = plt.ylim()\n",
      "plt.vlines(score_10_mean, ymin, ymax, color='black')\n",
      "plt.vlines([score_10_mean - 1 * score_10_stdev, score_10_mean - score_10_stdev, score_10_mean + score_10_stdev, \n",
      "            score_10_mean + 1 * score_10_stdev], ymin, ymax, linestyles=\"dashed\", color='black')\n",
      "plt.title(\"Player Holds at Score of 10\\n Mean: {} \\nStandard Deviation: {} \".format(score_10_mean, score_10_stdev))\n",
      "plt.show()"
     ],
     "language": "python",
     "metadata": {},
     "outputs": [
      {
       "metadata": {},
       "output_type": "display_data",
       "png": "[encoded data removed]",
       "text": [
        "<matplotlib.figure.Figure at 0x10c834f98>"
       ]
      }
     ],
     "prompt_number": 116
    },
    {
     "cell_type": "heading",
     "level": 1,
     "metadata": {},
     "source": [
      "Player Holds at a Score of 20"
     ]
    },
    {
     "cell_type": "code",
     "collapsed": false,
     "input": [
      "class Hold_at_score_20(Player):\n",
      "    def roll_or_stand(self, turn_count, turn_score):\n",
      "        \"\"\"Contains the logic for the given player.\"\"\"\n",
      "        if turn_score >= 20:\n",
      "            return False\n",
      "        else:\n",
      "            return True\n",
      "        \n",
      "    "
     ],
     "language": "python",
     "metadata": {},
     "outputs": [],
     "prompt_number": 117
    },
    {
     "cell_type": "code",
     "collapsed": false,
     "input": [
      "def game_iterate_20_score(trials=1000):\n",
      "    score_results = []\n",
      "    for _ in range(trials):\n",
      "        game = Game(Hold_at_score_20())\n",
      "        score_results.append(game.full_game())\n",
      "    return score_results\n"
     ],
     "language": "python",
     "metadata": {},
     "outputs": [],
     "prompt_number": 118
    },
    {
     "cell_type": "code",
     "collapsed": false,
     "input": [
      "score_20_results = game_iterate_20_score()\n",
      "score_20_mean = st.mean(score_20_results)\n",
      "score_20_stdev = st.stdev(score_20_results)\n",
      "\n"
     ],
     "language": "python",
     "metadata": {},
     "outputs": [],
     "prompt_number": 119
    },
    {
     "cell_type": "code",
     "collapsed": false,
     "input": [
      "plt.hist(score_20_results, bins=20, color='green')\n",
      "plt.xlabel(\"Score\")\n",
      "plt.ylabel(\"Count\")\n",
      "ymin, ymax = plt.ylim()\n",
      "plt.vlines(score_20_mean, ymin, ymax, color='black')\n",
      "plt.vlines([score_20_mean - 1 * score_20_stdev, score_20_mean - score_20_stdev, score_20_mean + score_20_stdev, \n",
      "            score_20_mean + 1 * score_20_stdev], ymin, ymax, linestyles=\"dashed\", color='black')\n",
      "plt.title(\"Player Holds at Score of 20\\n Mean: {} \\nStandard Deviation: {} \".format(score_20_mean, score_20_stdev))\n",
      "plt.show()"
     ],
     "language": "python",
     "metadata": {},
     "outputs": [
      {
       "metadata": {},
       "output_type": "display_data",
       "png": "[encoded data removed]",
       "text": [
        "<matplotlib.figure.Figure at 0x10c94b400>"
       ]
      }
     ],
     "prompt_number": 120
    },
    {
     "cell_type": "code",
     "collapsed": false,
     "input": [
      "class Hold_at_score_30(Player):\n",
      "    def roll_or_stand(self, turn_count, turn_score):\n",
      "        \"\"\"Contains the logic for the given player.\"\"\"\n",
      "        if turn_score >= 30:\n",
      "            return False\n",
      "        else:\n",
      "            return True\n",
      "        \n",
      "    "
     ],
     "language": "python",
     "metadata": {},
     "outputs": [],
     "prompt_number": 121
    },
    {
     "cell_type": "code",
     "collapsed": false,
     "input": [
      "def game_iterate_30_score(trials=1000):\n",
      "    score_results = []\n",
      "    for _ in range(trials):\n",
      "        game = Game(Hold_at_score_30())\n",
      "        score_results.append(game.full_game())\n",
      "    return score_results\n"
     ],
     "language": "python",
     "metadata": {},
     "outputs": [],
     "prompt_number": 122
    },
    {
     "cell_type": "code",
     "collapsed": false,
     "input": [
      "score_30_results = game_iterate_30_score()\n",
      "score_30_mean = st.mean(score_30_results)\n",
      "score_30_stdev = st.stdev(score_30_results)\n",
      "\n"
     ],
     "language": "python",
     "metadata": {},
     "outputs": [],
     "prompt_number": 123
    },
    {
     "cell_type": "code",
     "collapsed": false,
     "input": [
      "plt.hist(score_30_results, bins=15, color='green')\n",
      "plt.xlabel(\"Score\")\n",
      "plt.ylabel(\"Count\")\n",
      "ymin, ymax = plt.ylim()\n",
      "plt.vlines(score_30_mean, ymin, ymax, color='black')\n",
      "plt.vlines([score_30_mean - 1 * score_30_stdev, score_30_mean - score_30_stdev, score_30_mean + score_30_stdev, \n",
      "            score_30_mean + 1 * score_30_stdev], ymin, ymax, linestyles=\"dashed\", color='black')\n",
      "plt.title(\"Player Holds at Score of 30\\n Mean: {} \\nStandard Deviation: {} \".format(score_30_mean, score_30_stdev))\n",
      "plt.show()"
     ],
     "language": "python",
     "metadata": {},
     "outputs": [
      {
       "metadata": {},
       "output_type": "display_data",
       "png": "[encoded data removed]",
       "text": [
        "<matplotlib.figure.Figure at 0x10c997160>"
       ]
      }
     ],
     "prompt_number": 124
    },
    {
     "cell_type": "code",
     "collapsed": false,
     "input": [
      "class Hold_at_score_50(Player):\n",
      "    def roll_or_stand(self, turn_count, turn_score):\n",
      "        \"\"\"Contains the logic for the given player.\"\"\"\n",
      "        if turn_score >= 50:\n",
      "            return False\n",
      "        else:\n",
      "            return True\n",
      "        \n",
      "    "
     ],
     "language": "python",
     "metadata": {},
     "outputs": [],
     "prompt_number": 125
    },
    {
     "cell_type": "code",
     "collapsed": false,
     "input": [
      "def game_iterate_50_score(trials=1000):\n",
      "    score_results = []\n",
      "    for _ in range(trials):\n",
      "        game = Game(Hold_at_score_50())\n",
      "        score_results.append(game.full_game())\n",
      "    return score_results"
     ],
     "language": "python",
     "metadata": {},
     "outputs": [],
     "prompt_number": 129
    },
    {
     "cell_type": "code",
     "collapsed": false,
     "input": [
      "score_50_results = game_iterate_50_score()\n",
      "score_50_mean = st.mean(score_50_results)\n",
      "score_50_stdev = st.stdev(score_50_results)\n",
      "\n"
     ],
     "language": "python",
     "metadata": {},
     "outputs": [],
     "prompt_number": 130
    },
    {
     "cell_type": "code",
     "collapsed": false,
     "input": [
      "plt.hist(score_50_results, bins=15, color='green')\n",
      "plt.xlabel(\"Score\")\n",
      "plt.ylabel(\"Count\")\n",
      "ymin, ymax = plt.ylim()\n",
      "plt.vlines(score_50_mean, ymin, ymax, color='black')\n",
      "plt.vlines([score_50_mean - 1 * score_50_stdev, score_50_mean - score_50_stdev, score_50_mean + score_50_stdev, \n",
      "            score_50_mean + 1 * score_50_stdev], ymin, ymax, linestyles=\"dashed\", color='black')\n",
      "plt.title(\"Player Holds at Score of 50\\n Mean: {} \\nStandard Deviation: {} \".format(score_50_mean, score_50_stdev))\n",
      "plt.show()"
     ],
     "language": "python",
     "metadata": {},
     "outputs": [
      {
       "metadata": {},
       "output_type": "display_data",
       "png": "[encoded data removed]",
       "text": [
        "<matplotlib.figure.Figure at 0x10c639080>"
       ]
      }
     ],
     "prompt_number": 131
    },
    {
     "cell_type": "heading",
     "level": 1,
     "metadata": {},
     "source": [
      "Comparisons Between Strategies\n",
      "\n"
     ]
    },
    {
     "cell_type": "code",
     "collapsed": false,
     "input": [
      "plt.boxplot([normal_player_results, hold_5_results, hold_15_results, score_10_results, \n",
      "             score_20_results, score_30_results, score_50_results])\n",
      "ymin, ymax = plt.ylim()\n",
      "plt.ylim(ymin, ymax + 50)\n",
      "plt.title(\"Pig Solitaire Strategies\")\n",
      "plt.ylabel(\"Score\")\n",
      "plt.xticks(range(1,9), [\"Normal\", \"5 Turn\", \"15 Turn\", \"Score 10\", \"Score 20\", \n",
      "                        \"Score 30\", \"Score 50\"])\n",
      "plt.show()"
     ],
     "language": "python",
     "metadata": {},
     "outputs": [
      {
       "metadata": {},
       "output_type": "display_data",
       "png": "[encoded data removed]",
       "text": [
        "<matplotlib.figure.Figure at 0x10c6632e8>"
       ]
      }
     ],
     "prompt_number": 142
    },
    {
     "cell_type": "heading",
     "level": 4,
     "metadata": {},
     "source": [
      "From this we can see that the two best strategies are limiting your turns to 5, or holding on a score of 20 or more."
     ]
    },
    {
     "cell_type": "heading",
     "level": 2,
     "metadata": {},
     "source": [
      "Further Analysis of the Two Highest Yield Strategies"
     ]
    },
    {
     "cell_type": "code",
     "collapsed": false,
     "input": [
      "def game_iterate_5(trials=100000):\n",
      "    score_results = []\n",
      "    for _ in range(trials):\n",
      "        game = Game(Hold_at_5())\n",
      "        score_results.append(game.full_game())\n",
      "    return score_results\n",
      "\n"
     ],
     "language": "python",
     "metadata": {},
     "outputs": [],
     "prompt_number": 152
    },
    {
     "cell_type": "code",
     "collapsed": false,
     "input": [
      "def game_iterate_20_score(trials=100000):\n",
      "    score_results = []\n",
      "    for _ in range(trials):\n",
      "        game = Game(Hold_at_score_20())\n",
      "        score_results.append(game.full_game())\n",
      "    return score_results\n"
     ],
     "language": "python",
     "metadata": {},
     "outputs": [],
     "prompt_number": 153
    },
    {
     "cell_type": "code",
     "collapsed": false,
     "input": [
      "score_max_20_results = game_iterate_20_score()\n",
      "turn_max_5_results = game_iterate_5()\n",
      "turn_5_mean = st.mean(turn_max_5_results)\n",
      "score_20_mean = st.mean(score_max_20_results)\n",
      "turn_5_stdev = st.pstdev(turn_max_5_results)\n",
      "score_20_stdev = st.pstdev(score_max_20_results)"
     ],
     "language": "python",
     "metadata": {},
     "outputs": [],
     "prompt_number": 161
    },
    {
     "cell_type": "code",
     "collapsed": false,
     "input": [
      "plt.boxplot([turn_max_5_results, score_max_20_results])\n",
      "ymin, ymax = plt.ylim()\n",
      "plt.ylim(ymin, ymax + 50)\n",
      "plt.title(\"\"\"Pig Solitaire 2 Best Strategies\\n5 Turn Mean: {}\\n 5 Turn Standard Deviation: {}\n",
      "           \\nScore 20 Mean: {}\\nScore 20 Standard Deviation: {} \"\"\".format(turn_5_mean, turn_5_stdev, score_20_mean, score_20_stdev))\n",
      "plt.ylabel(\"Score\")\n",
      "plt.xticks(range(1,3), [\"5 Turn\", \"Score 20\"])\n",
      "plt.show()"
     ],
     "language": "python",
     "metadata": {},
     "outputs": [
      {
       "metadata": {},
       "output_type": "display_data",
       "png": "[encoded data removed]",
       "text": [
        "<matplotlib.figure.Figure at 0x10c87a8d0>"
       ]
      }
     ],
     "prompt_number": 162
    },
    {
     "cell_type": "heading",
     "level": 5,
     "metadata": {},
     "source": [
      "My conclusion after running 100,000 trials with each of these strategies is that they will yield about the same results. With holding at a score of 20 holding a very slight advantage."
     ]
    },
    {
     "cell_type": "code",
     "collapsed": false,
     "input": [],
     "language": "python",
     "metadata": {},
     "outputs": []
    }
   ],
   "metadata": {}
  }
 ]
}